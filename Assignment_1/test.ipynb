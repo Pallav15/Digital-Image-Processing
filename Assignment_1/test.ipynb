{
 "cells": [
  {
   "cell_type": "code",
   "execution_count": 10,
   "metadata": {},
   "outputs": [],
   "source": [
    "# importing the required libraries\n",
    "import cv2\n",
    "import numpy as np\n",
    "import matplotlib.pyplot as plt\n",
    "\n",
    "# Reading the Actual image present the folder\n",
    "image = cv2.imread(\"ruler.512.tiff\", 0)\n",
    "\n",
    "# row, col = image.shape[:2]\n",
    "row1 = np.zeros(shape=512)\n",
    "col1 = np.zeros(shape=(514,1))\n"
   ]
  },
  {
   "cell_type": "code",
   "execution_count": 11,
   "metadata": {},
   "outputs": [
    {
     "name": "stdout",
     "output_type": "stream",
     "text": [
      "[[  0   0   0 ...   0   0   0]\n",
      " [  0 255 255 ... 255 255 255]\n",
      " [  0 255 255 ... 255 255 255]\n",
      " ...\n",
      " [  0 255 255 ... 255 255 255]\n",
      " [  0 255 255 ... 255 255 255]\n",
      " [  0 255 255 ... 255 255 255]]\n"
     ]
    }
   ],
   "source": [
    "print(image)"
   ]
  },
  {
   "cell_type": "code",
   "execution_count": 6,
   "metadata": {},
   "outputs": [
    {
     "name": "stdout",
     "output_type": "stream",
     "text": [
      "(512,)\n",
      "(514, 1)\n"
     ]
    }
   ],
   "source": [
    "print(row1.shape)\n",
    "print(col1.shape)\n"
   ]
  },
  {
   "cell_type": "code",
   "execution_count": 12,
   "metadata": {},
   "outputs": [],
   "source": [
    "image=np.row_stack((row1,image))\n",
    "image=np.row_stack((image,row1))\n",
    "image=np.column_stack((col1,image))\n",
    "image=np.column_stack((image,col1))\n"
   ]
  },
  {
   "cell_type": "code",
   "execution_count": 13,
   "metadata": {},
   "outputs": [
    {
     "name": "stdout",
     "output_type": "stream",
     "text": [
      "[[  0.   0.   0. ...   0.   0.   0.]\n",
      " [  0.   0.   0. ...   0.   0.   0.]\n",
      " [  0.   0. 255. ... 255. 255.   0.]\n",
      " ...\n",
      " [  0.   0. 255. ... 255. 255.   0.]\n",
      " [  0.   0. 255. ... 255. 255.   0.]\n",
      " [  0.   0.   0. ...   0.   0.   0.]]\n"
     ]
    }
   ],
   "source": [
    "print(image)"
   ]
  },
  {
   "cell_type": "code",
   "execution_count": 8,
   "metadata": {},
   "outputs": [],
   "source": [
    "row = 512       ## size of image\n",
    "col = 512\n",
    "\n",
    "filtered_median_image = np.zeros([row,col])            # for storing the values of the medains \n",
    "\n",
    "for i in range(1,row-1):              # leaving the first & last row\n",
    "    for j in range(1,col-1):            # leaving the first & last col\n",
    "        a1 = image[i-1][j-1]\n",
    "        a2 = image[i-1,j]\n",
    "        a3 = image[i-1,j+1]\n",
    "        a4 = image[i,j-1]\n",
    "        a5 = image[i,j]\n",
    "        a6 = image[i,j+1]\n",
    "        a7 = image[i+1,j-1]\n",
    "        a8 = image[i+1,j]\n",
    "        a9 = image[i+1,j+1]\n",
    "        # print(a2)\n",
    "        median = [a1,a2,a3,a4,a5,a6,a7,a8,a9]\n",
    "        # median = [image[i-1,j-1],image[i-1,j],image[i-1,j+1],image[i,j-1], image[i,j],image[i,j+1],image[i+1,j-1],image[i+1,j],image[i+1,j+1]]\n",
    "        median.sort()           # sorting(asc) it for finding the middle value among all\n",
    "        filtered_median_image[i][j] = median[4]               # as it contains 9 value and so middle value will be 4th\n",
    "\n",
    "\n",
    "filtered5_median_image = np.zeros([row,col])            # for storing the values of the medains \n",
    "for i in range(2,row-2):              # leaving the first,sec & sec_last,last row\n",
    "    for j in range(2,col-2):            # leaving the first,sec & sec_last,last col\n",
    "        a1 = image[i-2][j-2]\n",
    "        a2 = image[i-2][j-1]\n",
    "        a3 = image[i-2][j]\n",
    "        a4 = image[i-2][j+1]\n",
    "        a5 = image[i-2][j+2]\n",
    "        a6 = image[i-1][j-2]\n",
    "        a7 = image[i-1][j-1]\n",
    "        a8 = image[i-1][j]\n",
    "        a9 = image[i-1][j+1]\n",
    "        a10 = image[i-1][j+2]\n",
    "        a11 = image[i][j-2]\n",
    "        a12 = image[i][j-1]\n",
    "        a13 = image[i][j]\n",
    "        a14 = image[i][j+1]\n",
    "        a15 = image[i][j+2]\n",
    "        a16 = image[i+1][j-2]\n",
    "        a17 = image[i+1][j-1]\n",
    "        a18 = image[i+1][j]\n",
    "        a19 = image[i+1][j+1]\n",
    "        a20 = image[i+1][j+2]\n",
    "        a21 = image[i+2][j-2]\n",
    "        a22 = image[i+2][j-1]\n",
    "        a23 = image[i+2][j]\n",
    "        a24 = image[i+2][j+1]\n",
    "        a25 = image[i+2][j+2]\n",
    "\n",
    "        # print(a2)\n",
    "        median1 = [a1,a2,a3,a4,a5,a6,a7,a8,a9,a10,a11,a12,a13,a14,a15,a16,a17,a18,a19,a20,a21,a22,a23,a24,a25]\n",
    "        # median = [image[i-1,j-1],image[i-1,j],image[i-1,j+1],image[i,j-1], image[i,j],image[i,j+1],image[i+1,j-1],image[i+1,j],image[i+1,j+1]]\n",
    "        median1.sort()           # sorting(asc) it for finding the middle value among all\n",
    "        filtered5_median_image[i][j] = median1[12]              # as it contains 9 value and so middle value will be 4th\n",
    "\n",
    "\n",
    "cv2.imshow(\"Median_3X3_filter\", filtered_median_image)\n",
    "cv2.imshow(\"Median_5X5_filter\", filtered5_median_image)\n",
    "cv2.waitKey()\n",
    "cv2.destroyAllWindows()"
   ]
  }
 ],
 "metadata": {
  "kernelspec": {
   "display_name": "Python 3.9.6 64-bit",
   "language": "python",
   "name": "python3"
  },
  "language_info": {
   "codemirror_mode": {
    "name": "ipython",
    "version": 3
   },
   "file_extension": ".py",
   "mimetype": "text/x-python",
   "name": "python",
   "nbconvert_exporter": "python",
   "pygments_lexer": "ipython3",
   "version": "3.9.6"
  },
  "orig_nbformat": 4,
  "vscode": {
   "interpreter": {
    "hash": "b0fa6594d8f4cbf19f97940f81e996739fb7646882a419484c72d19e05852a7e"
   }
  }
 },
 "nbformat": 4,
 "nbformat_minor": 2
}
